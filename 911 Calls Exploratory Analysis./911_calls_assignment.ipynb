{
 "cells": [
  {
   "cell_type": "markdown",
   "metadata": {},
   "source": [
    "# 911 Calls Exploratory Analysis"
   ]
  },
  {
   "cell_type": "markdown",
   "metadata": {},
   "source": [
    "## Data and Set Up"
   ]
  },
  {
   "cell_type": "markdown",
   "metadata": {},
   "source": [
    "###  ** Import libraries ** "
   ]
  },
  {
   "cell_type": "code",
   "execution_count": 1,
   "metadata": {},
   "outputs": [],
   "source": [
    "\n",
    "import numpy as np\n",
    "import pandas as pd\n",
    "import matplotlib.pyplot as plt\n",
    "import seaborn as sns"
   ]
  },
  {
   "cell_type": "markdown",
   "metadata": {},
   "source": [
    "### ** Read Data **
   ]
  },
  {
   "cell_type": "code",
   "execution_count": 2,
   "metadata": {},
   "outputs": [],
   "source": [
    "data = pd.read_csv('data.csv')"
   ]
  },
  {
   "cell_type": "markdown",
   "metadata": {},
   "source": [
    "### ** Checking the info of the 'df'  ** \n",
    "data.info()\n"
   ]
  },
  {
   "cell_type": "markdown",
   "metadata": {},
   "source": [
    "##### The above result shows that there is 9 columns in the 911 calls dataset. There are almost 99492 entries. It further shows the type of each column."
   ]
  },
  {
   "cell_type": "code",
   "execution_count": 3,
   "metadata": {},
   "outputs": [
    {
     "data": {
      "text/html": [
       "<div>\n",
       "<style scoped>\n",
       "    .dataframe tbody tr th:only-of-type {\n",
       "        vertical-align: middle;\n",
       "    }\n",
       "\n",
       "    .dataframe tbody tr th {\n",
       "        vertical-align: top;\n",
       "    }\n",
       "\n",
       "    .dataframe thead th {\n",
       "        text-align: right;\n",
       "    }\n",
       "</style>\n",
       "<table border=\"1\" class=\"dataframe\">\n",
       "  <thead>\n",
       "    <tr style=\"text-align: right;\">\n",
       "      <th></th>\n",
       "      <th>lat</th>\n",
       "      <th>lng</th>\n",
       "      <th>desc</th>\n",
       "      <th>zip</th>\n",
       "      <th>title</th>\n",
       "      <th>timeStamp</th>\n",
       "      <th>twp</th>\n",
       "      <th>addr</th>\n",
       "      <th>e</th>\n",
       "    </tr>\n",
       "  </thead>\n",
       "  <tbody>\n",
       "    <tr>\n",
       "      <th>0</th>\n",
       "      <td>40.297876</td>\n",
       "      <td>-75.581294</td>\n",
       "      <td>REINDEER CT &amp; DEAD END;  NEW HANOVER; Station ...</td>\n",
       "      <td>19525.0</td>\n",
       "      <td>EMS: BACK PAINS/INJURY</td>\n",
       "      <td>2015-12-10 17:40:00</td>\n",
       "      <td>NEW HANOVER</td>\n",
       "      <td>REINDEER CT &amp; DEAD END</td>\n",
       "      <td>1</td>\n",
       "    </tr>\n",
       "    <tr>\n",
       "      <th>1</th>\n",
       "      <td>40.258061</td>\n",
       "      <td>-75.264680</td>\n",
       "      <td>BRIAR PATH &amp; WHITEMARSH LN;  HATFIELD TOWNSHIP...</td>\n",
       "      <td>19446.0</td>\n",
       "      <td>EMS: DIABETIC EMERGENCY</td>\n",
       "      <td>2015-12-10 17:40:00</td>\n",
       "      <td>HATFIELD TOWNSHIP</td>\n",
       "      <td>BRIAR PATH &amp; WHITEMARSH LN</td>\n",
       "      <td>1</td>\n",
       "    </tr>\n",
       "    <tr>\n",
       "      <th>2</th>\n",
       "      <td>40.121182</td>\n",
       "      <td>-75.351975</td>\n",
       "      <td>HAWS AVE; NORRISTOWN; 2015-12-10 @ 14:39:21-St...</td>\n",
       "      <td>19401.0</td>\n",
       "      <td>Fire: GAS-ODOR/LEAK</td>\n",
       "      <td>2015-12-10 17:40:00</td>\n",
       "      <td>NORRISTOWN</td>\n",
       "      <td>HAWS AVE</td>\n",
       "      <td>1</td>\n",
       "    </tr>\n",
       "    <tr>\n",
       "      <th>3</th>\n",
       "      <td>40.116153</td>\n",
       "      <td>-75.343513</td>\n",
       "      <td>AIRY ST &amp; SWEDE ST;  NORRISTOWN; Station 308A;...</td>\n",
       "      <td>19401.0</td>\n",
       "      <td>EMS: CARDIAC EMERGENCY</td>\n",
       "      <td>2015-12-10 17:40:01</td>\n",
       "      <td>NORRISTOWN</td>\n",
       "      <td>AIRY ST &amp; SWEDE ST</td>\n",
       "      <td>1</td>\n",
       "    </tr>\n",
       "    <tr>\n",
       "      <th>4</th>\n",
       "      <td>40.251492</td>\n",
       "      <td>-75.603350</td>\n",
       "      <td>CHERRYWOOD CT &amp; DEAD END;  LOWER POTTSGROVE; S...</td>\n",
       "      <td>NaN</td>\n",
       "      <td>EMS: DIZZINESS</td>\n",
       "      <td>2015-12-10 17:40:01</td>\n",
       "      <td>LOWER POTTSGROVE</td>\n",
       "      <td>CHERRYWOOD CT &amp; DEAD END</td>\n",
       "      <td>1</td>\n",
       "    </tr>\n",
       "  </tbody>\n",
       "</table>\n",
       "</div>"
      ],
      "text/plain": [
       "         lat        lng                                               desc  \\\n",
       "0  40.297876 -75.581294  REINDEER CT & DEAD END;  NEW HANOVER; Station ...   \n",
       "1  40.258061 -75.264680  BRIAR PATH & WHITEMARSH LN;  HATFIELD TOWNSHIP...   \n",
       "2  40.121182 -75.351975  HAWS AVE; NORRISTOWN; 2015-12-10 @ 14:39:21-St...   \n",
       "3  40.116153 -75.343513  AIRY ST & SWEDE ST;  NORRISTOWN; Station 308A;...   \n",
       "4  40.251492 -75.603350  CHERRYWOOD CT & DEAD END;  LOWER POTTSGROVE; S...   \n",
       "\n",
       "       zip                    title            timeStamp                twp  \\\n",
       "0  19525.0   EMS: BACK PAINS/INJURY  2015-12-10 17:40:00        NEW HANOVER   \n",
       "1  19446.0  EMS: DIABETIC EMERGENCY  2015-12-10 17:40:00  HATFIELD TOWNSHIP   \n",
       "2  19401.0      Fire: GAS-ODOR/LEAK  2015-12-10 17:40:00         NORRISTOWN   \n",
       "3  19401.0   EMS: CARDIAC EMERGENCY  2015-12-10 17:40:01         NORRISTOWN   \n",
       "4      NaN           EMS: DIZZINESS  2015-12-10 17:40:01   LOWER POTTSGROVE   \n",
       "\n",
       "                         addr  e  \n",
       "0      REINDEER CT & DEAD END  1  \n",
       "1  BRIAR PATH & WHITEMARSH LN  1  \n",
       "2                    HAWS AVE  1  \n",
       "3          AIRY ST & SWEDE ST  1  \n",
       "4    CHERRYWOOD CT & DEAD END  1  "
      ]
     },
     "execution_count": 3,
     "metadata": {},
     "output_type": "execute_result"
    }
   ],
   "source": [
    "# Check head\n",
    "data.head()"
   ]
  },
  {
   "cell_type": "markdown",
   "metadata": {},
   "source": [
    "## Basic Questions"
   ]
  },
  {
   "cell_type": "markdown",
   "metadata": {},
   "source": [
    "### <p style='color:blue'> ** What are the top 5 zipcodes for 911 calls?** </p>"
   ]
  },
  {
   "cell_type": "code",
   "execution_count": 4,
   "metadata": {},
   "outputs": [
    {
     "data": {
      "text/plain": [
       "19401.0    6979\n",
       "19464.0    6643\n",
       "19403.0    4854\n",
       "19446.0    4748\n",
       "19406.0    3174\n",
       "Name: zip, dtype: int64"
      ]
     },
     "execution_count": 4,
     "metadata": {},
     "output_type": "execute_result"
    }
   ],
   "source": [
    "# data['zip'].value_counts().head()\n",
    "# or\n",
    "data['zip'].value_counts().nlargest()\n"
   ]
  },
  {
   "cell_type": "markdown",
   "metadata": {},
   "source": [
    "### <p style='color:blue'>** What are the top 5 townships(twp) for 911 calls?**</p>"
   ]
  },
  {
   "cell_type": "code",
   "execution_count": 5,
   "metadata": {},
   "outputs": [
    {
     "data": {
      "text/plain": [
       "LOWER MERION    8443\n",
       "ABINGTON        5977\n",
       "NORRISTOWN      5890\n",
       "UPPER MERION    5227\n",
       "CHELTENHAM      4575\n",
       "Name: twp, dtype: int64"
      ]
     },
     "execution_count": 5,
     "metadata": {},
     "output_type": "execute_result"
    }
   ],
   "source": [
    "data['twp'].value_counts().head()"
   ]
  },
  {
   "cell_type": "markdown",
   "metadata": {},
   "source": [
    "### ** How many unique title codes are there?**\n"
   ]
  },
  {
   "cell_type": "code",
   "execution_count": 6,
   "metadata": {},
   "outputs": [
    {
     "data": {
      "text/plain": [
       "110"
      ]
     },
     "execution_count": 6,
     "metadata": {},
     "output_type": "execute_result"
    }
   ],
   "source": [
    "data['title'].nunique()"
   ]
  },
  {
   "cell_type": "markdown",
   "metadata": {},
   "source": [
    "#### The 'title' column of the 911 calls dataset shows the reasons for the calls.and there are 110 reasons are availables."
   ]
  },
  {
   "cell_type": "markdown",
   "metadata": {},
   "source": [
    "## Creating New Features"
   ]
  },
  {
   "cell_type": "markdown",
   "metadata": {},
   "source": [
    "###  ** In the title column there are 'Reasons/Departments' specified before the title code.  These are EMS, Fire, and Traffic.Use .apply() with a custom lambda expression to create a new column called 'Reason' that contains this string value.** "
   ]
  },
  {
   "cell_type": "markdown",
   "metadata": {},
   "source": [
    "#### creating the 'reason' column in the 911 calls dataset."
   ]
  },
  {
   "cell_type": "code",
   "execution_count": 24,
   "metadata": {},
   "outputs": [
    {
     "data": {
      "text/html": [
       "<div>\n",
       "<style scoped>\n",
       "    .dataframe tbody tr th:only-of-type {\n",
       "        vertical-align: middle;\n",
       "    }\n",
       "\n",
       "    .dataframe tbody tr th {\n",
       "        vertical-align: top;\n",
       "    }\n",
       "\n",
       "    .dataframe thead th {\n",
       "        text-align: right;\n",
       "    }\n",
       "</style>\n",
       "<table border=\"1\" class=\"dataframe\">\n",
       "  <thead>\n",
       "    <tr style=\"text-align: right;\">\n",
       "      <th></th>\n",
       "      <th>lat</th>\n",
       "      <th>lng</th>\n",
       "      <th>desc</th>\n",
       "      <th>zip</th>\n",
       "      <th>title</th>\n",
       "      <th>timeStamp</th>\n",
       "      <th>twp</th>\n",
       "      <th>addr</th>\n",
       "      <th>e</th>\n",
       "      <th>reason</th>\n",
       "      <th>hour</th>\n",
       "      <th>month</th>\n",
       "      <th>day of week</th>\n",
       "    </tr>\n",
       "  </thead>\n",
       "  <tbody>\n",
       "    <tr>\n",
       "      <th>0</th>\n",
       "      <td>40.297876</td>\n",
       "      <td>-75.581294</td>\n",
       "      <td>REINDEER CT &amp; DEAD END;  NEW HANOVER; Station ...</td>\n",
       "      <td>19525.0</td>\n",
       "      <td>EMS: BACK PAINS/INJURY</td>\n",
       "      <td>2015-12-10 17:40:00</td>\n",
       "      <td>NEW HANOVER</td>\n",
       "      <td>REINDEER CT &amp; DEAD END</td>\n",
       "      <td>1</td>\n",
       "      <td>EMS</td>\n",
       "      <td>17</td>\n",
       "      <td>12</td>\n",
       "      <td>Thu</td>\n",
       "    </tr>\n",
       "    <tr>\n",
       "      <th>1</th>\n",
       "      <td>40.258061</td>\n",
       "      <td>-75.264680</td>\n",
       "      <td>BRIAR PATH &amp; WHITEMARSH LN;  HATFIELD TOWNSHIP...</td>\n",
       "      <td>19446.0</td>\n",
       "      <td>EMS: DIABETIC EMERGENCY</td>\n",
       "      <td>2015-12-10 17:40:00</td>\n",
       "      <td>HATFIELD TOWNSHIP</td>\n",
       "      <td>BRIAR PATH &amp; WHITEMARSH LN</td>\n",
       "      <td>1</td>\n",
       "      <td>EMS</td>\n",
       "      <td>17</td>\n",
       "      <td>12</td>\n",
       "      <td>Thu</td>\n",
       "    </tr>\n",
       "    <tr>\n",
       "      <th>2</th>\n",
       "      <td>40.121182</td>\n",
       "      <td>-75.351975</td>\n",
       "      <td>HAWS AVE; NORRISTOWN; 2015-12-10 @ 14:39:21-St...</td>\n",
       "      <td>19401.0</td>\n",
       "      <td>Fire: GAS-ODOR/LEAK</td>\n",
       "      <td>2015-12-10 17:40:00</td>\n",
       "      <td>NORRISTOWN</td>\n",
       "      <td>HAWS AVE</td>\n",
       "      <td>1</td>\n",
       "      <td>Fire</td>\n",
       "      <td>17</td>\n",
       "      <td>12</td>\n",
       "      <td>Thu</td>\n",
       "    </tr>\n",
       "    <tr>\n",
       "      <th>3</th>\n",
       "      <td>40.116153</td>\n",
       "      <td>-75.343513</td>\n",
       "      <td>AIRY ST &amp; SWEDE ST;  NORRISTOWN; Station 308A;...</td>\n",
       "      <td>19401.0</td>\n",
       "      <td>EMS: CARDIAC EMERGENCY</td>\n",
       "      <td>2015-12-10 17:40:01</td>\n",
       "      <td>NORRISTOWN</td>\n",
       "      <td>AIRY ST &amp; SWEDE ST</td>\n",
       "      <td>1</td>\n",
       "      <td>EMS</td>\n",
       "      <td>17</td>\n",
       "      <td>12</td>\n",
       "      <td>Thu</td>\n",
       "    </tr>\n",
       "    <tr>\n",
       "      <th>4</th>\n",
       "      <td>40.251492</td>\n",
       "      <td>-75.603350</td>\n",
       "      <td>CHERRYWOOD CT &amp; DEAD END;  LOWER POTTSGROVE; S...</td>\n",
       "      <td>NaN</td>\n",
       "      <td>EMS: DIZZINESS</td>\n",
       "      <td>2015-12-10 17:40:01</td>\n",
       "      <td>LOWER POTTSGROVE</td>\n",
       "      <td>CHERRYWOOD CT &amp; DEAD END</td>\n",
       "      <td>1</td>\n",
       "      <td>EMS</td>\n",
       "      <td>17</td>\n",
       "      <td>12</td>\n",
       "      <td>Thu</td>\n",
       "    </tr>\n",
       "  </tbody>\n",
       "</table>\n",
       "</div>"
      ],
      "text/plain": [
       "         lat        lng                                               desc  \\\n",
       "0  40.297876 -75.581294  REINDEER CT & DEAD END;  NEW HANOVER; Station ...   \n",
       "1  40.258061 -75.264680  BRIAR PATH & WHITEMARSH LN;  HATFIELD TOWNSHIP...   \n",
       "2  40.121182 -75.351975  HAWS AVE; NORRISTOWN; 2015-12-10 @ 14:39:21-St...   \n",
       "3  40.116153 -75.343513  AIRY ST & SWEDE ST;  NORRISTOWN; Station 308A;...   \n",
       "4  40.251492 -75.603350  CHERRYWOOD CT & DEAD END;  LOWER POTTSGROVE; S...   \n",
       "\n",
       "       zip                    title           timeStamp                twp  \\\n",
       "0  19525.0   EMS: BACK PAINS/INJURY 2015-12-10 17:40:00        NEW HANOVER   \n",
       "1  19446.0  EMS: DIABETIC EMERGENCY 2015-12-10 17:40:00  HATFIELD TOWNSHIP   \n",
       "2  19401.0      Fire: GAS-ODOR/LEAK 2015-12-10 17:40:00         NORRISTOWN   \n",
       "3  19401.0   EMS: CARDIAC EMERGENCY 2015-12-10 17:40:01         NORRISTOWN   \n",
       "4      NaN           EMS: DIZZINESS 2015-12-10 17:40:01   LOWER POTTSGROVE   \n",
       "\n",
       "                         addr  e reason  hour  month day of week  \n",
       "0      REINDEER CT & DEAD END  1    EMS    17     12         Thu  \n",
       "1  BRIAR PATH & WHITEMARSH LN  1    EMS    17     12         Thu  \n",
       "2                    HAWS AVE  1   Fire    17     12         Thu  \n",
       "3          AIRY ST & SWEDE ST  1    EMS    17     12         Thu  \n",
       "4    CHERRYWOOD CT & DEAD END  1    EMS    17     12         Thu  "
      ]
     },
     "execution_count": 24,
     "metadata": {},
     "output_type": "execute_result"
    }
   ],
   "source": [
    "data['reason']=data['title'].apply(lambda x: x.split(':')[0])\n",
    "data.head()"
   ]
  },
  {
   "cell_type": "markdown",
   "metadata": {},
   "source": [
    "### ** What is the most common reason for a 911 call based on this new column?** "
   ]
  },
  {
   "cell_type": "code",
   "execution_count": 8,
   "metadata": {},
   "outputs": [
    {
     "data": {
      "text/plain": [
       "EMS        48877\n",
       "Traffic    35695\n",
       "Fire       14920\n",
       "Name: reason, dtype: int64"
      ]
     },
     "execution_count": 8,
     "metadata": {},
     "output_type": "execute_result"
    }
   ],
   "source": [
    "data['reason'].value_counts()"
   ]
  },
  {
   "cell_type": "markdown",
   "metadata": {},
   "source": [
    "###  EMS is the most common reason for the calls to 911. "
   ]
  },
  {
   "cell_type": "markdown",
   "metadata": {},
   "source": [
    "###  ** Use seaborn to create a countplot of 911 calls by Reason** "
   ]
  },
  {
   "cell_type": "code",
   "execution_count": 9,
   "metadata": {},
   "outputs": [
    {
     "data": {
      "text/plain": [
       "<AxesSubplot:xlabel='reason', ylabel='count'>"
      ]
     },
     "execution_count": 9,
     "metadata": {},
     "output_type": "execute_result"
    },
    {
     "data": {
      "image/png": "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\n",
      "text/plain": [
       "<Figure size 432x288 with 1 Axes>"
      ]
     },
     "metadata": {
      "needs_background": "light"
     },
     "output_type": "display_data"
    }
   ],
   "source": [
    "sns.countplot(x = 'reason',data = data)"
   ]
  },
  {
   "cell_type": "markdown",
   "metadata": {},
   "source": [
    "### <p style='color:blue'> ** What is the data type of the objects in the timeStamp column?**</p>"
   ]
  },
  {
   "cell_type": "code",
   "execution_count": 10,
   "metadata": {},
   "outputs": [
    {
     "data": {
      "text/plain": [
       "str"
      ]
     },
     "execution_count": 10,
     "metadata": {},
     "output_type": "execute_result"
    }
   ],
   "source": [
    "type(data['timeStamp'][0])\n"
   ]
  },
  {
   "cell_type": "markdown",
   "metadata": {},
   "source": [
    "####  string is the data type of the objects in the timeStamp column."
   ]
  },
  {
   "cell_type": "markdown",
   "metadata": {},
   "source": [
    "### ** Convert timeStamp from strings to DateTime object** "
   ]
  },
  {
   "cell_type": "code",
   "execution_count": 11,
   "metadata": {},
   "outputs": [],
   "source": [
    "data['timeStamp'] = pd.to_datetime(data['timeStamp'])\n"
   ]
  },
  {
   "cell_type": "code",
   "execution_count": 12,
   "metadata": {},
   "outputs": [
    {
     "data": {
      "text/plain": [
       "0       2015-12-10 17:40:00\n",
       "1       2015-12-10 17:40:00\n",
       "2       2015-12-10 17:40:00\n",
       "3       2015-12-10 17:40:01\n",
       "4       2015-12-10 17:40:01\n",
       "                ...        \n",
       "99487   2016-08-24 11:06:00\n",
       "99488   2016-08-24 11:07:02\n",
       "99489   2016-08-24 11:12:00\n",
       "99490   2016-08-24 11:17:01\n",
       "99491   2016-08-24 11:17:02\n",
       "Name: timeStamp, Length: 99492, dtype: datetime64[ns]"
      ]
     },
     "execution_count": 12,
     "metadata": {},
     "output_type": "execute_result"
    }
   ],
   "source": [
    "data['timeStamp']"
   ]
  },
  {
   "cell_type": "markdown",
   "metadata": {},
   "source": [
    "### now the data type of 'timeStamp' column is datetime."
   ]
  },
  {
   "cell_type": "markdown",
   "metadata": {},
   "source": [
    "###  ** Now that the timestamp column are actually DateTime objects, use .apply() to create 3 new columns called Hour, Month, and Day of Week. Create these columns based on of the timeStamp column.** "
   ]
  },
  {
   "cell_type": "markdown",
   "metadata": {},
   "source": [
    "#### lets create 3 new columns called  'Hour',  'Month' and 'Day of Week'."
   ]
  },
  {
   "cell_type": "code",
   "execution_count": 13,
   "metadata": {},
   "outputs": [],
   "source": [
    "# Create hour column\n",
    "data['hour'] = data['timeStamp'].apply(lambda x: x.hour)"
   ]
  },
  {
   "cell_type": "code",
   "execution_count": 14,
   "metadata": {},
   "outputs": [],
   "source": [
    "# Create month column\n",
    "data['month'] = data['timeStamp'].apply(lambda x: x.month)"
   ]
  },
  {
   "cell_type": "code",
   "execution_count": 15,
   "metadata": {},
   "outputs": [],
   "source": [
    "# Create day of week\n",
    "data['day of week'] = data['timeStamp'].apply(lambda x: x.dayofweek)"
   ]
  },
  {
   "cell_type": "code",
   "execution_count": 16,
   "metadata": {},
   "outputs": [
    {
     "data": {
      "text/html": [
       "<div>\n",
       "<style scoped>\n",
       "    .dataframe tbody tr th:only-of-type {\n",
       "        vertical-align: middle;\n",
       "    }\n",
       "\n",
       "    .dataframe tbody tr th {\n",
       "        vertical-align: top;\n",
       "    }\n",
       "\n",
       "    .dataframe thead th {\n",
       "        text-align: right;\n",
       "    }\n",
       "</style>\n",
       "<table border=\"1\" class=\"dataframe\">\n",
       "  <thead>\n",
       "    <tr style=\"text-align: right;\">\n",
       "      <th></th>\n",
       "      <th>lat</th>\n",
       "      <th>lng</th>\n",
       "      <th>desc</th>\n",
       "      <th>zip</th>\n",
       "      <th>title</th>\n",
       "      <th>timeStamp</th>\n",
       "      <th>twp</th>\n",
       "      <th>addr</th>\n",
       "      <th>e</th>\n",
       "      <th>reason</th>\n",
       "      <th>hour</th>\n",
       "      <th>month</th>\n",
       "      <th>day of week</th>\n",
       "    </tr>\n",
       "  </thead>\n",
       "  <tbody>\n",
       "    <tr>\n",
       "      <th>0</th>\n",
       "      <td>40.297876</td>\n",
       "      <td>-75.581294</td>\n",
       "      <td>REINDEER CT &amp; DEAD END;  NEW HANOVER; Station ...</td>\n",
       "      <td>19525.0</td>\n",
       "      <td>EMS: BACK PAINS/INJURY</td>\n",
       "      <td>2015-12-10 17:40:00</td>\n",
       "      <td>NEW HANOVER</td>\n",
       "      <td>REINDEER CT &amp; DEAD END</td>\n",
       "      <td>1</td>\n",
       "      <td>EMS</td>\n",
       "      <td>17</td>\n",
       "      <td>12</td>\n",
       "      <td>3</td>\n",
       "    </tr>\n",
       "    <tr>\n",
       "      <th>1</th>\n",
       "      <td>40.258061</td>\n",
       "      <td>-75.264680</td>\n",
       "      <td>BRIAR PATH &amp; WHITEMARSH LN;  HATFIELD TOWNSHIP...</td>\n",
       "      <td>19446.0</td>\n",
       "      <td>EMS: DIABETIC EMERGENCY</td>\n",
       "      <td>2015-12-10 17:40:00</td>\n",
       "      <td>HATFIELD TOWNSHIP</td>\n",
       "      <td>BRIAR PATH &amp; WHITEMARSH LN</td>\n",
       "      <td>1</td>\n",
       "      <td>EMS</td>\n",
       "      <td>17</td>\n",
       "      <td>12</td>\n",
       "      <td>3</td>\n",
       "    </tr>\n",
       "    <tr>\n",
       "      <th>2</th>\n",
       "      <td>40.121182</td>\n",
       "      <td>-75.351975</td>\n",
       "      <td>HAWS AVE; NORRISTOWN; 2015-12-10 @ 14:39:21-St...</td>\n",
       "      <td>19401.0</td>\n",
       "      <td>Fire: GAS-ODOR/LEAK</td>\n",
       "      <td>2015-12-10 17:40:00</td>\n",
       "      <td>NORRISTOWN</td>\n",
       "      <td>HAWS AVE</td>\n",
       "      <td>1</td>\n",
       "      <td>Fire</td>\n",
       "      <td>17</td>\n",
       "      <td>12</td>\n",
       "      <td>3</td>\n",
       "    </tr>\n",
       "    <tr>\n",
       "      <th>3</th>\n",
       "      <td>40.116153</td>\n",
       "      <td>-75.343513</td>\n",
       "      <td>AIRY ST &amp; SWEDE ST;  NORRISTOWN; Station 308A;...</td>\n",
       "      <td>19401.0</td>\n",
       "      <td>EMS: CARDIAC EMERGENCY</td>\n",
       "      <td>2015-12-10 17:40:01</td>\n",
       "      <td>NORRISTOWN</td>\n",
       "      <td>AIRY ST &amp; SWEDE ST</td>\n",
       "      <td>1</td>\n",
       "      <td>EMS</td>\n",
       "      <td>17</td>\n",
       "      <td>12</td>\n",
       "      <td>3</td>\n",
       "    </tr>\n",
       "    <tr>\n",
       "      <th>4</th>\n",
       "      <td>40.251492</td>\n",
       "      <td>-75.603350</td>\n",
       "      <td>CHERRYWOOD CT &amp; DEAD END;  LOWER POTTSGROVE; S...</td>\n",
       "      <td>NaN</td>\n",
       "      <td>EMS: DIZZINESS</td>\n",
       "      <td>2015-12-10 17:40:01</td>\n",
       "      <td>LOWER POTTSGROVE</td>\n",
       "      <td>CHERRYWOOD CT &amp; DEAD END</td>\n",
       "      <td>1</td>\n",
       "      <td>EMS</td>\n",
       "      <td>17</td>\n",
       "      <td>12</td>\n",
       "      <td>3</td>\n",
       "    </tr>\n",
       "  </tbody>\n",
       "</table>\n",
       "</div>"
      ],
      "text/plain": [
       "         lat        lng                                               desc  \\\n",
       "0  40.297876 -75.581294  REINDEER CT & DEAD END;  NEW HANOVER; Station ...   \n",
       "1  40.258061 -75.264680  BRIAR PATH & WHITEMARSH LN;  HATFIELD TOWNSHIP...   \n",
       "2  40.121182 -75.351975  HAWS AVE; NORRISTOWN; 2015-12-10 @ 14:39:21-St...   \n",
       "3  40.116153 -75.343513  AIRY ST & SWEDE ST;  NORRISTOWN; Station 308A;...   \n",
       "4  40.251492 -75.603350  CHERRYWOOD CT & DEAD END;  LOWER POTTSGROVE; S...   \n",
       "\n",
       "       zip                    title           timeStamp                twp  \\\n",
       "0  19525.0   EMS: BACK PAINS/INJURY 2015-12-10 17:40:00        NEW HANOVER   \n",
       "1  19446.0  EMS: DIABETIC EMERGENCY 2015-12-10 17:40:00  HATFIELD TOWNSHIP   \n",
       "2  19401.0      Fire: GAS-ODOR/LEAK 2015-12-10 17:40:00         NORRISTOWN   \n",
       "3  19401.0   EMS: CARDIAC EMERGENCY 2015-12-10 17:40:01         NORRISTOWN   \n",
       "4      NaN           EMS: DIZZINESS 2015-12-10 17:40:01   LOWER POTTSGROVE   \n",
       "\n",
       "                         addr  e reason  hour  month  day of week  \n",
       "0      REINDEER CT & DEAD END  1    EMS    17     12            3  \n",
       "1  BRIAR PATH & WHITEMARSH LN  1    EMS    17     12            3  \n",
       "2                    HAWS AVE  1   Fire    17     12            3  \n",
       "3          AIRY ST & SWEDE ST  1    EMS    17     12            3  \n",
       "4    CHERRYWOOD CT & DEAD END  1    EMS    17     12            3  "
      ]
     },
     "execution_count": 16,
     "metadata": {},
     "output_type": "execute_result"
    }
   ],
   "source": [
    "# Confirm columns were added to dataframe or not?\n",
    "data.head()"
   ]
  },
  {
   "cell_type": "markdown",
   "metadata": {},
   "source": [
    "#### here we create new 3 columns hour,month and day of week."
   ]
  },
  {
   "cell_type": "markdown",
   "metadata": {},
   "source": [
    "###  ** Notice how the Day of Week is an integer 0-6. Use the .map() with a dictionary to map the actual string names to the day of the week** like this: {0:'Mon',1:'Tue',2:'Wed',3:'Thu',4:'Fri',5:'Sat',6:'Sun'} "
   ]
  },
  {
   "cell_type": "code",
   "execution_count": 17,
   "metadata": {},
   "outputs": [],
   "source": [
    "data['day of week'] = data['day of week'].map({0:'Mon',1:'Tue',2:'Wed',3:'Thu',4:'Fri',5:'Sat',6:'Sun'})\n"
   ]
  },
  {
   "cell_type": "code",
   "execution_count": 18,
   "metadata": {},
   "outputs": [
    {
     "data": {
      "text/html": [
       "<div>\n",
       "<style scoped>\n",
       "    .dataframe tbody tr th:only-of-type {\n",
       "        vertical-align: middle;\n",
       "    }\n",
       "\n",
       "    .dataframe tbody tr th {\n",
       "        vertical-align: top;\n",
       "    }\n",
       "\n",
       "    .dataframe thead th {\n",
       "        text-align: right;\n",
       "    }\n",
       "</style>\n",
       "<table border=\"1\" class=\"dataframe\">\n",
       "  <thead>\n",
       "    <tr style=\"text-align: right;\">\n",
       "      <th></th>\n",
       "      <th>lat</th>\n",
       "      <th>lng</th>\n",
       "      <th>desc</th>\n",
       "      <th>zip</th>\n",
       "      <th>title</th>\n",
       "      <th>timeStamp</th>\n",
       "      <th>twp</th>\n",
       "      <th>addr</th>\n",
       "      <th>e</th>\n",
       "      <th>reason</th>\n",
       "      <th>hour</th>\n",
       "      <th>month</th>\n",
       "      <th>day of week</th>\n",
       "    </tr>\n",
       "  </thead>\n",
       "  <tbody>\n",
       "    <tr>\n",
       "      <th>0</th>\n",
       "      <td>40.297876</td>\n",
       "      <td>-75.581294</td>\n",
       "      <td>REINDEER CT &amp; DEAD END;  NEW HANOVER; Station ...</td>\n",
       "      <td>19525.0</td>\n",
       "      <td>EMS: BACK PAINS/INJURY</td>\n",
       "      <td>2015-12-10 17:40:00</td>\n",
       "      <td>NEW HANOVER</td>\n",
       "      <td>REINDEER CT &amp; DEAD END</td>\n",
       "      <td>1</td>\n",
       "      <td>EMS</td>\n",
       "      <td>17</td>\n",
       "      <td>12</td>\n",
       "      <td>Thu</td>\n",
       "    </tr>\n",
       "    <tr>\n",
       "      <th>1</th>\n",
       "      <td>40.258061</td>\n",
       "      <td>-75.264680</td>\n",
       "      <td>BRIAR PATH &amp; WHITEMARSH LN;  HATFIELD TOWNSHIP...</td>\n",
       "      <td>19446.0</td>\n",
       "      <td>EMS: DIABETIC EMERGENCY</td>\n",
       "      <td>2015-12-10 17:40:00</td>\n",
       "      <td>HATFIELD TOWNSHIP</td>\n",
       "      <td>BRIAR PATH &amp; WHITEMARSH LN</td>\n",
       "      <td>1</td>\n",
       "      <td>EMS</td>\n",
       "      <td>17</td>\n",
       "      <td>12</td>\n",
       "      <td>Thu</td>\n",
       "    </tr>\n",
       "    <tr>\n",
       "      <th>2</th>\n",
       "      <td>40.121182</td>\n",
       "      <td>-75.351975</td>\n",
       "      <td>HAWS AVE; NORRISTOWN; 2015-12-10 @ 14:39:21-St...</td>\n",
       "      <td>19401.0</td>\n",
       "      <td>Fire: GAS-ODOR/LEAK</td>\n",
       "      <td>2015-12-10 17:40:00</td>\n",
       "      <td>NORRISTOWN</td>\n",
       "      <td>HAWS AVE</td>\n",
       "      <td>1</td>\n",
       "      <td>Fire</td>\n",
       "      <td>17</td>\n",
       "      <td>12</td>\n",
       "      <td>Thu</td>\n",
       "    </tr>\n",
       "    <tr>\n",
       "      <th>3</th>\n",
       "      <td>40.116153</td>\n",
       "      <td>-75.343513</td>\n",
       "      <td>AIRY ST &amp; SWEDE ST;  NORRISTOWN; Station 308A;...</td>\n",
       "      <td>19401.0</td>\n",
       "      <td>EMS: CARDIAC EMERGENCY</td>\n",
       "      <td>2015-12-10 17:40:01</td>\n",
       "      <td>NORRISTOWN</td>\n",
       "      <td>AIRY ST &amp; SWEDE ST</td>\n",
       "      <td>1</td>\n",
       "      <td>EMS</td>\n",
       "      <td>17</td>\n",
       "      <td>12</td>\n",
       "      <td>Thu</td>\n",
       "    </tr>\n",
       "    <tr>\n",
       "      <th>4</th>\n",
       "      <td>40.251492</td>\n",
       "      <td>-75.603350</td>\n",
       "      <td>CHERRYWOOD CT &amp; DEAD END;  LOWER POTTSGROVE; S...</td>\n",
       "      <td>NaN</td>\n",
       "      <td>EMS: DIZZINESS</td>\n",
       "      <td>2015-12-10 17:40:01</td>\n",
       "      <td>LOWER POTTSGROVE</td>\n",
       "      <td>CHERRYWOOD CT &amp; DEAD END</td>\n",
       "      <td>1</td>\n",
       "      <td>EMS</td>\n",
       "      <td>17</td>\n",
       "      <td>12</td>\n",
       "      <td>Thu</td>\n",
       "    </tr>\n",
       "  </tbody>\n",
       "</table>\n",
       "</div>"
      ],
      "text/plain": [
       "         lat        lng                                               desc  \\\n",
       "0  40.297876 -75.581294  REINDEER CT & DEAD END;  NEW HANOVER; Station ...   \n",
       "1  40.258061 -75.264680  BRIAR PATH & WHITEMARSH LN;  HATFIELD TOWNSHIP...   \n",
       "2  40.121182 -75.351975  HAWS AVE; NORRISTOWN; 2015-12-10 @ 14:39:21-St...   \n",
       "3  40.116153 -75.343513  AIRY ST & SWEDE ST;  NORRISTOWN; Station 308A;...   \n",
       "4  40.251492 -75.603350  CHERRYWOOD CT & DEAD END;  LOWER POTTSGROVE; S...   \n",
       "\n",
       "       zip                    title           timeStamp                twp  \\\n",
       "0  19525.0   EMS: BACK PAINS/INJURY 2015-12-10 17:40:00        NEW HANOVER   \n",
       "1  19446.0  EMS: DIABETIC EMERGENCY 2015-12-10 17:40:00  HATFIELD TOWNSHIP   \n",
       "2  19401.0      Fire: GAS-ODOR/LEAK 2015-12-10 17:40:00         NORRISTOWN   \n",
       "3  19401.0   EMS: CARDIAC EMERGENCY 2015-12-10 17:40:01         NORRISTOWN   \n",
       "4      NaN           EMS: DIZZINESS 2015-12-10 17:40:01   LOWER POTTSGROVE   \n",
       "\n",
       "                         addr  e reason  hour  month day of week  \n",
       "0      REINDEER CT & DEAD END  1    EMS    17     12         Thu  \n",
       "1  BRIAR PATH & WHITEMARSH LN  1    EMS    17     12         Thu  \n",
       "2                    HAWS AVE  1   Fire    17     12         Thu  \n",
       "3          AIRY ST & SWEDE ST  1    EMS    17     12         Thu  \n",
       "4    CHERRYWOOD CT & DEAD END  1    EMS    17     12         Thu  "
      ]
     },
     "execution_count": 18,
     "metadata": {},
     "output_type": "execute_result"
    }
   ],
   "source": [
    "data.head(5)"
   ]
  },
  {
   "cell_type": "markdown",
   "metadata": {},
   "source": [
    "### ** Use seaborn to create a countplot of the Day of Week column with the hue based off of the Reason column ** "
   ]
  },
  {
   "cell_type": "code",
   "execution_count": 19,
   "metadata": {},
   "outputs": [
    {
     "data": {
      "text/plain": [
       "<matplotlib.legend.Legend at 0x2241a755160>"
      ]
     },
     "execution_count": 19,
     "metadata": {},
     "output_type": "execute_result"
    },
    {
     "data": {
      "image/png": "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\n",
      "text/plain": [
       "<Figure size 432x288 with 1 Axes>"
      ]
     },
     "metadata": {
      "needs_background": "light"
     },
     "output_type": "display_data"
    }
   ],
   "source": [
    "sns.countplot(x = 'day of week',hue = 'reason',data = data)\n",
    "plt.legend(bbox_to_anchor=(1.1, 1),borderaxespad=0) # this is used to manage position of legend."
   ]
  },
  {
   "cell_type": "markdown",
   "metadata": {},
   "source": [
    "#### from the above fig. we can say that on friday most of the calls were made to 911 because of the EMS reasons.sunday had the less traffic related calls which is normal due to less traffic on the roads.but calls spike up on tuesday.fire related calls were fie related calls were slightly same for all days. "
   ]
  },
  {
   "cell_type": "markdown",
   "metadata": {},
   "source": [
    "###  ** Use seaborn to create a countplot of the Month column with the hue based off of the Reason column**  "
   ]
  },
  {
   "cell_type": "code",
   "execution_count": 20,
   "metadata": {},
   "outputs": [
    {
     "data": {
      "text/plain": [
       "<matplotlib.legend.Legend at 0x2241c2e5790>"
      ]
     },
     "execution_count": 20,
     "metadata": {},
     "output_type": "execute_result"
    },
    {
     "data": {
      "image/png": "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\n",
      "text/plain": [
       "<Figure size 432x288 with 1 Axes>"
      ]
     },
     "metadata": {
      "needs_background": "light"
     },
     "output_type": "display_data"
    }
   ],
   "source": [
    "sns.countplot(x='month', data=data, hue = 'reason')\n",
    "plt.legend(bbox_to_anchor=(1,1))"
   ]
  },
  {
   "cell_type": "markdown",
   "metadata": {},
   "source": [
    "### In january and july, EMS related calls spike up but in the december month EMS related calls were decreased.\n",
    "### in the december month fire elated calls were decreased.\n",
    "### in january had more traffic on the road so traffic related calls spike up in this month.\n",
    "### from above plot we can also obeserved that the months sup , oct and nov were missing."
   ]
  },
  {
   "cell_type": "markdown",
   "metadata": {},
   "source": [
    "### <p style='color:blue'> ** Do you notice something strange about this Plot? **    Plot is missing some months.  May need to plot this information another way, possibly a simple line plot, that fills in the missing data.</p>"
   ]
  },
  {
   "cell_type": "markdown",
   "metadata": {},
   "source": [
    "### From above plot we can  obeserved that plot was missing some months. May need to plot this information another way, possibly a simple line plot, that fills in the missing data."
   ]
  },
  {
   "cell_type": "markdown",
   "metadata": {},
   "source": [
    "### <p style='color:blue'> ** Create a groupby object called byMonth that groups the DataFrame by month and uses the count() method for aggregation. **</p>"
   ]
  },
  {
   "cell_type": "code",
   "execution_count": 21,
   "metadata": {},
   "outputs": [
    {
     "data": {
      "text/html": [
       "<div>\n",
       "<style scoped>\n",
       "    .dataframe tbody tr th:only-of-type {\n",
       "        vertical-align: middle;\n",
       "    }\n",
       "\n",
       "    .dataframe tbody tr th {\n",
       "        vertical-align: top;\n",
       "    }\n",
       "\n",
       "    .dataframe thead th {\n",
       "        text-align: right;\n",
       "    }\n",
       "</style>\n",
       "<table border=\"1\" class=\"dataframe\">\n",
       "  <thead>\n",
       "    <tr style=\"text-align: right;\">\n",
       "      <th></th>\n",
       "      <th>lat</th>\n",
       "      <th>lng</th>\n",
       "      <th>desc</th>\n",
       "      <th>zip</th>\n",
       "      <th>title</th>\n",
       "      <th>timeStamp</th>\n",
       "      <th>twp</th>\n",
       "      <th>addr</th>\n",
       "      <th>e</th>\n",
       "      <th>reason</th>\n",
       "      <th>hour</th>\n",
       "      <th>day of week</th>\n",
       "    </tr>\n",
       "    <tr>\n",
       "      <th>month</th>\n",
       "      <th></th>\n",
       "      <th></th>\n",
       "      <th></th>\n",
       "      <th></th>\n",
       "      <th></th>\n",
       "      <th></th>\n",
       "      <th></th>\n",
       "      <th></th>\n",
       "      <th></th>\n",
       "      <th></th>\n",
       "      <th></th>\n",
       "      <th></th>\n",
       "    </tr>\n",
       "  </thead>\n",
       "  <tbody>\n",
       "    <tr>\n",
       "      <th>1</th>\n",
       "      <td>13205</td>\n",
       "      <td>13205</td>\n",
       "      <td>13205</td>\n",
       "      <td>11527</td>\n",
       "      <td>13205</td>\n",
       "      <td>13205</td>\n",
       "      <td>13203</td>\n",
       "      <td>13096</td>\n",
       "      <td>13205</td>\n",
       "      <td>13205</td>\n",
       "      <td>13205</td>\n",
       "      <td>13205</td>\n",
       "    </tr>\n",
       "    <tr>\n",
       "      <th>2</th>\n",
       "      <td>11467</td>\n",
       "      <td>11467</td>\n",
       "      <td>11467</td>\n",
       "      <td>9930</td>\n",
       "      <td>11467</td>\n",
       "      <td>11467</td>\n",
       "      <td>11465</td>\n",
       "      <td>11396</td>\n",
       "      <td>11467</td>\n",
       "      <td>11467</td>\n",
       "      <td>11467</td>\n",
       "      <td>11467</td>\n",
       "    </tr>\n",
       "    <tr>\n",
       "      <th>3</th>\n",
       "      <td>11101</td>\n",
       "      <td>11101</td>\n",
       "      <td>11101</td>\n",
       "      <td>9755</td>\n",
       "      <td>11101</td>\n",
       "      <td>11101</td>\n",
       "      <td>11092</td>\n",
       "      <td>11059</td>\n",
       "      <td>11101</td>\n",
       "      <td>11101</td>\n",
       "      <td>11101</td>\n",
       "      <td>11101</td>\n",
       "    </tr>\n",
       "    <tr>\n",
       "      <th>4</th>\n",
       "      <td>11326</td>\n",
       "      <td>11326</td>\n",
       "      <td>11326</td>\n",
       "      <td>9895</td>\n",
       "      <td>11326</td>\n",
       "      <td>11326</td>\n",
       "      <td>11323</td>\n",
       "      <td>11283</td>\n",
       "      <td>11326</td>\n",
       "      <td>11326</td>\n",
       "      <td>11326</td>\n",
       "      <td>11326</td>\n",
       "    </tr>\n",
       "    <tr>\n",
       "      <th>5</th>\n",
       "      <td>11423</td>\n",
       "      <td>11423</td>\n",
       "      <td>11423</td>\n",
       "      <td>9946</td>\n",
       "      <td>11423</td>\n",
       "      <td>11423</td>\n",
       "      <td>11420</td>\n",
       "      <td>11378</td>\n",
       "      <td>11423</td>\n",
       "      <td>11423</td>\n",
       "      <td>11423</td>\n",
       "      <td>11423</td>\n",
       "    </tr>\n",
       "  </tbody>\n",
       "</table>\n",
       "</div>"
      ],
      "text/plain": [
       "         lat    lng   desc    zip  title  timeStamp    twp   addr      e  \\\n",
       "month                                                                      \n",
       "1      13205  13205  13205  11527  13205      13205  13203  13096  13205   \n",
       "2      11467  11467  11467   9930  11467      11467  11465  11396  11467   \n",
       "3      11101  11101  11101   9755  11101      11101  11092  11059  11101   \n",
       "4      11326  11326  11326   9895  11326      11326  11323  11283  11326   \n",
       "5      11423  11423  11423   9946  11423      11423  11420  11378  11423   \n",
       "\n",
       "       reason   hour  day of week  \n",
       "month                              \n",
       "1       13205  13205        13205  \n",
       "2       11467  11467        11467  \n",
       "3       11101  11101        11101  \n",
       "4       11326  11326        11326  \n",
       "5       11423  11423        11423  "
      ]
     },
     "execution_count": 21,
     "metadata": {},
     "output_type": "execute_result"
    }
   ],
   "source": [
    "bymonth = data.groupby('month').count()\n",
    "bymonth.head()"
   ]
  },
  {
   "cell_type": "markdown",
   "metadata": {},
   "source": [
    "###  ** Create a simple plot off of the dataframe indicating the count of calls per month** "
   ]
  },
  {
   "cell_type": "code",
   "execution_count": 22,
   "metadata": {},
   "outputs": [
    {
     "data": {
      "text/plain": [
       "<AxesSubplot:xlabel='month'>"
      ]
     },
     "execution_count": 22,
     "metadata": {},
     "output_type": "execute_result"
    },
    {
     "data": {
      "image/png": "iVBORw0KGgoAAAANSUhEUgAAAYQAAAEGCAYAAABlxeIAAAAAOXRFWHRTb2Z0d2FyZQBNYXRwbG90bGliIHZlcnNpb24zLjQuMywgaHR0cHM6Ly9tYXRwbG90bGliLm9yZy/MnkTPAAAACXBIWXMAAAsTAAALEwEAmpwYAAAoT0lEQVR4nO3deXxV9Z3/8dcnC4GwhFwgQPYIuAAKkkXRulS02ta6FaZOXZipU2aqo3Y6M22dzu/XPub3cB7azkx/05mHWquOYF0q1FZ/VltxqUtlS1BZXZAACUQChD1k//z+uCcaMRAI9+bk3ryfj0cenHzvOed+juZx3/ec7znfr7k7IiIiKWEXICIi/YMCQUREAAWCiIgEFAgiIgIoEEREJJAWdgG9NXr0aC8uLg67DBGRhFJVVbXT3cd091rCBkJxcTGVlZVhlyEiklDMbPORXtMlIxERARQIIiISUCCIiAigQBARkYACQUREAAWCiIgEFAgiIgIMwEB4p2YPd//+3bDLEBHpdwZcIKyq3cO9f/yQt2v2hF2KiEi/MuAC4eoZ+QzLSGPBm5vCLkVEpF8ZcIEwLCON2aX5PLuqjp0HmsMuR0Sk3xhwgQBw/dlFtLR38KsVNWGXIiLSbwzIQJiYM4zzJo3ml0s309beEXY5IiL9Qo+BYGYPmVm9ma3p0vZ/zGyVmb1tZi+YWW6X1+4wsw1m9p6ZXdqlvdTMVgev/czMLGjPMLNfBe3LzKw4xsfYrRtnFlO3t4kX12/vi7cTEen3juUM4WHgssPafuLuZ7j7dOBZ4H8DmNlk4FpgSrDNPWaWGmxzLzAPmBT8dO7zJmC3u08Efgrc3duDOR4XnZpD3sghzH/ziCPBiogMKD0Ggru/BjQc1ravy69DAQ+WrwSecPdmd68GNgAVZjYeGOHuS9zdgQXAVV22mR8sLwJmdZ49xFNqinHDzCKWbNzF+9v3x/vtRET6vV73IZjZnWZWA1xHcIYA5AFde2prg7a8YPnw9k9t4+5twF5g1BHec56ZVZpZ5Y4dO3pb+se+VlZARloKC5ZsOuF9iYgkul4Hgrv/wN0LgEeBvw2au/tm70dpP9o23b3n/e5e5u5lY8Z0OwPccckeOogrpuXy1Mqt7GtqPeH9iYgksljcZfQY8NVguRYo6PJaPrAtaM/vpv1T25hZGpDFYZeo4mnuOcU0trTz66ranlcWEUlivQoEM5vU5dcrgM7BgZ4Brg3uHCoh2nm83N3rgP1mdnbQP3Aj8HSXbeYGy7OBl4N+hj4xNS+LGYUjeWTJZjo6+uxtRUT6nWO57fRxYAlwipnVmtlNwF1mtsbMVgFfAG4HcPe1wJPAOuD3wC3u3h7s6lvAA0Q7mj8Eng/aHwRGmdkG4DvA92N1cMdq7jnFbNx5kDc27OzrtxYR6TesD7+Mx1RZWZlXVlbGZF8tbR2cc9fLTC/I4oG55THZp4hIf2RmVe5e1t1rA/JJ5cMNSkvh6xUFvPRuPTUNjWGXIyISCgVC4OtnFZFixi+X6kE1ERmYFAiBcVmDuWzKOJ5YUcOhlvaeNxARSTIKhC5unFnE3kOt/L93tvW8sohIklEgdFFREuHUccOZv2QTidrZLiLSWwqELsyi4xut3baPlVv2hF2OiEifUiAc5qrpeQwfnKbxjURkwFEgHGZoRhpzSgt4bnUd9fubwi5HRKTPKBC6ccPMIlrbnSeWa4pNERk4FAjdKBk9lAtOHsOjyzbTqik2RWSAUCAcwdxziti+r5kX1mqKTREZGBQIR3DByTkURjKZr85lERkgFAhHkJpi3HB2EcurG1hft6/nDUREEpwC4SjmlOUzOD2FBUs0vpGIJD8FwlGMzBzEVdPz+O1bW9nbqCk2RSS5KRB6cMPMIg61trOwSregikhyUyD0YEpuFuXF2TyyVFNsikhyUyAcgxtnFrN5VyOvfrAj7FJEROJGgXAMLp0yjpzhGSx4c1PYpYiIxI0C4RgMSkvh62cV8sf3d7Bp58GwyxERiQsFwjH6ekUhqZpiU0SSmALhGOWMGMwXTx/Pk5U1NLa0hV2OiEjMKRCOw9yZRexrauPptzXFpogkHwXCcSgtymby+BHMf1NTbIpI8lEgHAczY+45Rbz70X5WbNoddjkiIjGlQDhOV0zLI2tIukZBlZhqa++g4WBL2GXIAKdAOE5DBqXytfIC/rDmIz7aqyk25cQ0tbbzy6WbufDf/sjn7n6ZPY0KBQmPAqEXrj+riHZ3Hlu+JexSJEEdbG7jF69t5Pwfv8I//3YN6akpNLa061KkhEqB0AuFozL5/Ck5PLZsCy1tmmJTjt3exlb+88UPOPful7nzufVMzBnGo391Fs/ffh6DUlNYsakh7BJlAOsxEMzsITOrN7M1Xdp+YmbvmtkqM/uNmY3s8todZrbBzN4zs0u7tJea2ergtZ+ZmQXtGWb2q6B9mZkVx/YQ4+PGmUXsPNDM82vqwi5FEsCO/c3c9fy7nHv3y/z0xfcpK8rmqZvP4bFvns25E0czOD2VaQVZLKtWIEh4juUM4WHgssPaFgNT3f0M4H3gDgAzmwxcC0wJtrnHzFKDbe4F5gGTgp/Ofd4E7Hb3icBPgbt7ezB96fxJYygelanJc+Sotu45xA+fXsPn7n6Zn7/2IReeMobnbz+PB+aWM6Mw+1PrVpREWLt1rx58lND0GAju/hrQcFjbC+7e+Ve7FMgPlq8EnnD3ZnevBjYAFWY2Hhjh7ks8egP/AuCqLtvMD5YXAbM6zx76s5QU44aZxVRt3s2arXvDLkf6mY07DvCPC9/hgh+/wqPLtnDl9Fxe+s4F/PfXZ3Da+BHdblNeHKGtw3lry56+LVYkEIs+hG8AzwfLeUDXmWRqg7a8YPnw9k9tE4TMXmBUd29kZvPMrNLMKnfsCH8o6tml+QxJT+URnSVIYN22fdzy2Epm/cerPPPONq4/u4hXv/t5fjx7GieNGXbUbUuLskkxdNlIQpN2Ihub2Q+ANuDRzqZuVvOjtB9tm882ut8P3A9QVlYW+qPCWUPSuXpGHr+uquWOL53KyMxBYZckIanavJt7XtnAS+/WMywjjb+5YALfOLeEMcMzjnkfwwenMzl3BCsUCBKSXgeCmc0FLgdm+SfjONQCBV1Wywe2Be353bR33abWzNKALA67RNWf3TiziMeWbeHJyhrmnT8h7HKkD7k7b364i/9+eQNLNu4iOzOdv7/kZG6cWUxWZnqv9lleHOHx5dG71wal6SZA6Vu9+oszs8uA7wFXuHtjl5eeAa4N7hwqIdp5vNzd64D9ZnZ20D9wI/B0l23mBsuzgZc9gQYKOnXcCM4qifDI0s20a4rNAaGjw1m8bjtX3fMm1z2wjI07D/DPXz6NN753EbfOmtTrMACoKI7Q1NrBavVLSQh6PEMws8eBC4HRZlYL/JDoXUUZwOKg/3epu/+Nu681syeBdUQvJd3i7u3Brr5F9I6lIUT7HDr7HR4EHjGzDUTPDK6NzaH1nbnnFHPzoyv543v1zDptbNjlSJy0dzjPrtrGPa98yHvb91MQGcKdV09ldmk+GWmpPe/gGJSXRABYsamB0qLsHtYWiS1LoC/jn1JWVuaVlZVhlwFAa3sH5939CiePG86Cb1SEXY7EWEtbB0+trOW+Vz9k065GJuUM4+bPT+ArZ+SSlhr7yzoX/fsfKRk1lAf/ojzm+xYxsyp3L+vutRPqVJao9NQUrjurkH9f/D4bdxzo8W4SSQyHWtp5fPkWfvH6Rur2NnF6Xhb3XV/KFyaPJSUlfndGVxRHeG51HR0dHtf3ETmceq1i5NqKQtJTjUc0xWbCO9jcxn2vfsjn7n6Zf3l2HQWRTBZ8o4Jn/vZcLps6Lu4f0hUlEfY1tfHe9v1xfR+Rw+kMIUbGDM/gy6ePZ1FlLf/whVMYmqH/tInmQHMb89/cxAOvb2R3YyvnTRrNbbMmUV4c6dM6Ot9vxaaGIz7EJhIP+tSKoRvPKea3b2/jN29t5fqzi8IuR47R/qbWaBC8Uc2exlYuPGUMt82a9JmhJfpKfvYQxmcNZll1AzfOLA6lBhmYFAgxdGbBSE7Py2LBkk1cd1YhCTACx4C2r6mVh/+0iQffqGbvoVZmnZrDbbMmMa1gZKh1mRkVJRGWfLgLd9ffkfQZBUIMmRk3ziziHxetYunGBmZO6HYEDgnZ3kOtPPRGNQ/9qZr9TW1cfNpYbp81idPzs8Iu7WPlxRGefnsbWxoaKRo1NOxyZIBQIMTYV6bl8q/PrWfBkk0KhH5mT2MLD71Rzf/8aRP7m9v4wuSx3DZrElPz+k8QdKoInkdYVt2gQJA+o0CIscHpqXytvJBfvL6RbXsOkTtySNglDXi7D7bwwBsbmf/mZg40t/HFqeO49aJJTM7tvx22E8cMIzsznRXVDfxZWUHPG4jEgAIhDq47q5D7X/uQx5Zt4R8uPSXscgashoMt/OL1jSx4cxONre18aep4bp01kVPH9d8g6JSSYpQVRzSDmvQpBUIcFEQymXXaWB5fvoVbZ02M2bAGcmx2HWjm/tc38siSzRxqbefyM3K59aKJnDx2eNilHZeK4giL122nfl8TOSMGh12ODAAKhDiZO7OYxeu289zqOq4+M7/nDeSE7djfzP2vfcgvl26hua2dr0yLBsHEnMQKgk6d/QjLNzVw+Rm5IVcjA4ECIU7OnTiKk8YMZf6bmxUIcVa/v4mfv7qRR5dtpqWtgyun5/G3F01kQoIPITIldwSZg1JZUa1AkL6hQIgTM2PuzGJ++Mxa3qnZE/q97clo+74m7ns12lfT1uFcNT2PWz4/IWnGkkpLTWFGYbZmUJM+o7GM4uiaGXkMHZTK/356DW9t2R12OUmjbm904vrzfvwKC5Zs5opp0fmK//3Pep6mMtFUlER4b/t+9h5qDbsUGQB0hhBHwwenc+fVp/Mvz67j6nve5IKTx3D7xeENiZDIDja3sWnXQZ5YXsOvVtTQ4c7s0nxuvnAihaMywy4vbsqLI7hD1eYGLjpVc21IfCkQ4uyqM/O4ZPJYHlm6mftf28g1CoZutXc4H+1rYsuuRmoaGtnS5ad2dyM7D7QAkJ5qzC4t4OYLJ1AQSd4g6HRm4UjSU41l1QoEiT8FQh8YGky6fsPZRQM6GPY1tR7hA/8QtbsbaW3/ZLKm1BQjb+QQCiJDuGTyWAoimRRGMiktymZ81sB52G9weipn5I9khfoRpA8oEPrQkYLh/JPHcPusSQk/ZWJrewd1e5o+9WHf+eFfs7uRPY2fvg4+MjOdwkgmk3NHcNnUcRQGH/qFkUzGZw2Oy2xkiai8OMKDb2zkUEs7QwbpmRaJHwVCCLoGwy+Xbubnr23kq/cmVjDsaWzhlffqWV7dwOZd0Q/8bXuaaO/45Ft+eqqRn51JQSSTaQVZH3/YFwQ/Iwb3fjL6gaSiJJv7XnXeqtnNORNGh12OJDEFQoiGZqTx1xdM4PoECYYtuxp5Yd1HvLh+Oys27aa9wxmZmU7J6KHMKMzmqumZFAQBUDgqk3EjBpOqKSBPWGlRBDNYUa1AkPhSIPQDRwqG8yaN5tsXnxxaMHR0OKu27mXxuo94cV39x1M6njJ2OH9zwUlcMnkcZ+Rlad7fOMsaks6p40ZoXCOJOwVCP9IZDDfMLOKRJeEEQ1NrO0s+3MUL67bz0vrt1O9vJjXFKC/O5n9dPpmLT8vRcMwhqCjO5snKWlrbO0hX34rEiQKhH8oc9Ekw/HLpZn7+atdgmERpUWzn+G042MIr79azeN12XvtgB40t7QwdlMoFp4zhkslj+fwpOYzMHBTT95TjU1EyivlLNrN22z6m66l3iRMFQj+WOSiNeed3uZT06ka+eu+SmATDpp0HWbxuO4vXb6dyUwMdDuNGDOaaGXlcfNpYZk4YpVFa+5HykujZ4YrqBgWCxI25e89r9UNlZWVeWVkZdhl9qrGl7eNg2HWw5biCoaPDebt2TzQE1m1nQ/0BAE4dN5wvTB7LJZPHMTVvhObv7ccu/MkrTMwZzgNzy8IuRRKYmVW5e7d/RDpDSCBHO2O4fdYkyoo/HQxNre288cFOXly/nRfX17PzQDNpKcZZJ0W47qxCLj5t7IB42jdZVJREeGHddjo6XB35EhcKhATUNRgeXbqFn7/2IbPvW8LnJo7mry84ibq9Tby4bjuvf7CTQ63tDM9I+7g/4MKTc8jK1P3/iai8OMKTlbVs2HEg4Sb7kcSgQEhgmYPS+Ob5J3Hd2YUfB8MNDy4HIDdrMHPK8rlk8ljOKhnFoDTdmZLoOifMWVbdoECQuOgxEMzsIeByoN7dpwZtc4AfAacBFe5e2WX9O4CbgHbgNnf/Q9BeCjwMDAGeA253dzezDGABUArsAr7m7ptidHwDQtdgeHF9PSeNHsqUXPUHJJvCSCZjR2SworqBG84uCrscSULH8rXxYeCyw9rWANcAr3VtNLPJwLXAlGCbe8ys81aVe4F5wKTgp3OfNwG73X0i8FPg7uM+CgGiwXDFtFym5mUpDJKQmVFeHGF5dQOJejOI9G89BoK7vwY0HNa23t3f62b1K4En3L3Z3auBDUCFmY0HRrj7Eo/+JS8AruqyzfxgeREwy/RpJtKtipIIH+1ronb3obBLkSQU6wvLeUBNl99rg7a8YPnw9k9t4+5twF5gVHc7N7N5ZlZpZpU7duyIceki/V9nP8JyDYctcRDrQOjum70fpf1o23y20f1+dy9z97IxY8b0skSRxHVyznCyhqRrXCOJi1gHQi1Q0OX3fGBb0J7fTfuntjGzNCCLwy5RiUhUSopRVpStMwSJi1gHwjPAtWaWYWYlRDuPl7t7HbDfzM4O+gduBJ7uss3cYHk28LKrx0zkiCpKImzceZAd+5vDLkWSTI+BYGaPA0uAU8ys1sxuMrOrzawWmAn8zsz+AODua4EngXXA74Fb3L092NW3gAeIdjR/CDwftD8IjDKzDcB3gO/H7OhEklB50I9QqctGEmM9Pofg7n9+hJd+c4T17wTu7Ka9EpjaTXsTMKenOkQkampuFoPTU1hW3cAXTx8fdjmSRPT4qkiCGZSWwozCbHUsS8wpEEQSUHlxhHV1+9jX1Bp2KZJEFAgiCaiiJII7VG3eHXYpkkQUCCIJ6MzCkaSlGCt0+6nEkAJBJAFlDkpjal6WnkeQmFIgiCSoipIIq2r30tTa3vPKIsdAgSCSoCqKI7S0d/BOzZ6wS5EkoUAQSVBlxdmABrqT2FEgiCSokZmDOGXscJbreQSJEQWCSAKrKImwcvNu2to7wi5FkoACQSSBlZdEONjSzrq6fWGXIklAgSCSwCqKNWGOxI4CQSSBjcsaTGEkU+MaSUwoEEQSXHlxhBWbdqNpROREKRBEElxFSTYNB1v4cMeBsEuRBKdAEElwFSWjAFherYHu5MQoEEQSXPGoTEYPy2B59a6wS5EEp0AQSXBmRkVJNis26QxBTowCQSQJVBRH2LrnELW7G8MuRRKYAkEkCZSXRJ9H0O2nciIUCCJJ4NRxIxiekaaOZTkhCgSRJJCaYpQVZ+sMQU6IAkEkSZSXRNhQf4BdB5rDLkUSlAJBJEl0jmuku42ktxQIIkni9PwsMtJSdNlIek2BIJIkMtJSmV4wUiOfSq8pEESSSEVJhLXb9nKguS3sUiQBKRBEkkhFSYQOh5Wb1Y8gx0+BIJJEZhRmk5piumwkvdJjIJjZQ2ZWb2ZrurRFzGyxmX0Q/Jvd5bU7zGyDmb1nZpd2aS81s9XBaz8zMwvaM8zsV0H7MjMrjvExigwYQzPSmJI7guXqWJZeOJYzhIeByw5r+z7wkrtPAl4KfsfMJgPXAlOCbe4xs9Rgm3uBecCk4KdznzcBu919IvBT4O7eHoyIRG8/fbtmD81t7WGXIgmmx0Bw99eAw79uXAnMD5bnA1d1aX/C3ZvdvRrYAFSY2XhghLsv8ei0TgsO26ZzX4uAWZ1nDyJy/MpLIrS0dbCqdm/YpUiC6W0fwlh3rwMI/s0J2vOAmi7r1QZtecHy4e2f2sbd24C9wKju3tTM5plZpZlV7tixo5eliyS38uABNfUjyPGKdadyd9/s/SjtR9vms43u97t7mbuXjRkzppcliiS3yNBBTMoZpgfU5Lj1NhC2B5eBCP6tD9prgYIu6+UD24L2/G7aP7WNmaUBWXz2EpWIHIfykghVm3bT3tHtdyuRbvU2EJ4B5gbLc4Gnu7RfG9w5VEK083h5cFlpv5mdHfQP3HjYNp37mg28HPQziEgvVRRH2N/cxvq6fWGXIgkkracVzOxx4EJgtJnVAj8E7gKeNLObgC3AHAB3X2tmTwLrgDbgFnfvvNXhW0TvWBoCPB/8ADwIPGJmG4ieGVwbkyMTGcAqukyYMzUvK+RqJFH0GAju/udHeGnWEda/E7izm/ZKYGo37U0EgSIisZE7cgh5I4ewvLqBvzy3JOxyJEHoSWWRJFVREmHFpgZ0BVaOlQJBJElVlETYeaCF6p0Hwy5FEoQCQSRJ6XkEOV4KBJEkNWHMUEYNHaRxjeSYKRBEkpSZUV4c0QNqcswUCCJJrLwkQk3DIer2Hgq7FEkACgSRJFahfgQ5DgoEkSR22vjhDMtI02UjOSYKBJEklpaawoyibJ0hyDFRIIgkuYribN7ffoDdB1vCLkX6OQWCSJKrKIlOL1K5eXfIlUh/p0AQSXJn5GcxKDWF5dW7wi5F+jkFgkiSG5yeyrSCLJZv0hmCHJ0CQWQAqCiJsHbrXg42t4VdivRjCgSRAaC8OEJbh/PWlj1hlyL9mAJBZAAoLcomxdC4RnJUCgSRAWD44HQm545ghZ5HkKNQIIgMEOXFEVZu2U1LW0fYpUg/pUAQGSAqiiM0t3WweuvesEuRfkqBIDJAlJdEB7rTuEZyJAoEkQFi9LAMThozVOMayREpEEQGkIpgwpz2Dg+7FOmHFAgiA0hFSYT9TW2899H+sEuRfkiBIDKAlBerH0GOTIEgMoDkZw9hfNZgPaAm3VIgiAwgZkZFSYTl1Q24qx9BPk2BIDLAlBdH2LG/mc27GsMuRfoZBYLIAHNW8DyCLhvJ4RQIIgPMxJxhZGems6iylvV1+8IuR/qREwoEM7vdzNaY2Voz+3bQFjGzxWb2QfBvdpf17zCzDWb2npld2qW91MxWB6/9zMzsROoSkSMzM+adP4G3anbzxf98ncv/63Ue/lO15lwWrLcdS2Y2FXgCqABagN8D3wK+CTS4+11m9n0g292/Z2aTgceD9XOBF4GT3b3dzJYDtwNLgeeAn7n780d7/7KyMq+srOxV7SICuw+28PTbW1lYVcvabfsYlJrCxZNzmFNawHmTRpOWqgsIycjMqty9rLvX0k5gv6cBS929MXiTV4GrgSuBC4N15gN/BL4XtD/h7s1AtZltACrMbBMwwt2XBPtZAFwFHDUQROTEZA8dxF+cW8JfnFvCum37WFhVw9Nvb+O51R+RMzyDa2bkM7s0n4k5w8IuVfrIiQTCGuBOMxsFHAK+BFQCY929DsDd68wsJ1g/j+gZQKfaoK01WD68/TPMbB4wD6CwsPAESheRribnjuCHuVO444un8fK79SyqquEXr2/kvlc/5MzCkcwpLeDyaeMZMTg97FIljnodCO6+3szuBhYDB4B3gKNN2Npdv4Afpb2797wfuB+il4yOq2AR6dGgtBQumzqOy6aOo35/E799aysLK2v5p9+s5l+eXctlU8Yxp6yAmSeNIiVFXX3J5kTOEHD3B4EHAczsX4l+u99uZuODs4PxQH2wei1Q0GXzfGBb0J7fTbuIhChn+GDmnT+Bb553Eqtq97KwqoZn3t7Gb9/eRt7IIXx1Rh6zSwsoHJUZdqkSI73uVAYwsxx3rzezQuAFYCbwT8CuLp3KEXf/rplNAR7jk07ll4BJQafyCuBWYBnRTuX/cvfnjvbe6lQW6XtNre28sG47CytreGPDTtyjzzXMKSvgS6ePI3PQCX3HlD5wtE7lEw2E14FRRPsBvuPuLwV9Ck8ChcAWYI67NwTr/wD4BtFLS9/uvJPIzMqAh4EhRDuTb/UeClMgiIRr255D/OatrSysrGHTrkaGDkrly2eMZ3ZpAeXF2eju8f4pboEQJgWCSP/g7lRu3s3Cyhp+t6qOgy3tFI/KZHZpPtfMyCd35JCwS5QuFAgi0icaW9p4bvVHLKysYVl1A2bwuYmjmVNWwBcmj2VwemrYJQ54CgQR6XNbdjWyaGUtv66qZeueQ4wYnMZXpuUyp6yAaflZuqQUEgWCiISmo8NZsnEXCytreH7NRzS3dTApZxhzyvK56sw8coYPDrvEAUWBICL9wr6mVn63qo6FlTWs3LKH1BTjwpPHMKcsn4tOHcugNA2XEW8KBBHpdzbUH2BRVS1Praylfn8zkaGDuHJ6LnNKC5icOyLs8pKWAkFE+q229g5e/2Ani6pqWbxuOy3tHUzJHcGc0nyunJ5H9tBBYZeYVBQIIpIQdh9s4Zl3trGwqoY1W/eRnmpcfNpY5pTlc/6kMRqBNQYUCCKScNbX7WNRVS2/fWsruw62kDM8g6tn5DGntEAjsJ4ABYKIJKyWtg5eea+ehZW1vPJePe0dzpmFI5ldms9XpuVqBNbjpEAQkaSwY39zdATWqhre336AjGB01jmlBZwzQSOwHgsFgogkFXdn9da9LKys5em3t7KvqY3crMF8tTQ6qU/RqKFhl9hvKRBEJGk1tbazeN12FlbV8voHO3CHipIIc0rz+dLp4xmaoRFYu1IgiMiAULf3EE+t3Mqiqlqqdx4kc1AqXz59PHPKNAJrJwWCiAwo7k7V5t0srKzl2VXbONjSTtGoTGbPyOerpQN7BFYFgogMWI0tbTy/+iMWVdWyZOOuj0dgnV2az6VTxg24EVgVCCIiQE1DI4uqalkUjMA6vHME1tJ8pheMHBCXlBQIIiJddHQ4SzfuYmFVLc+vqaOpNToC6+zSfK6ekdwjsCoQRESOYF9TK8+tqmNhVS1Vm3d/PALr7NJ8Zp2WfCOwKhBERI7Bhzs+GYF1+75msjPTuXJ6HnPK8pmSmxV2eTGhQBAROQ7tHc5rH+xgUeUnI7BOHj+COWXREVgjCTwCqwJBRKSX9jQGI7BW1rJ6617SU41Zp0ZHYL3g5MQbgVWBICISA+9+tI+FlZ+MwDpmeAbXnBm9pDQxZ3jY5R0TBYKISAy1tnfwyrv1LKyq5ZV362nrcKYVjGROMAJr1pD+OwKrAkFEJE52HghGYK2s5b3t+8lIS+HSKeOYU5bPORNGk9rPRmBVIIiIxNnRRmD96ox8ikf3jxFYFQgiIn2oqbWdF9dvZ2FldATWDoeK4gizy/L5csgjsCoQRERC8tHeJn69spZfV9WyMRiB9Uunj2d2aT5nlUT6fLgMBYKISMjcnZVbOkdgreNAcxuFkUxml0ZHYM3roxFYFQgiIv1IY0sbv1/zEQsrPxmB9dwJo5lTFv8RWOMWCGb2d8BfAQ6sBv4SyAR+BRQDm4A/c/fdwfp3ADcB7cBt7v6HoL0UeBgYAjwH3O49FKZAEJFkUNPQyK9XRkdgrd19iOEZaVw+LZc5ZfmcGYcRWOMSCGaWB7wBTHb3Q2b2JNEP88lAg7vfZWbfB7Ld/XtmNhl4HKgAcoEXgZPdvd3MlgO3A0uDffzM3Z8/2vsrEEQkmXR0OEurd7GospbnghFYJwYjsF5zZh45I2IzAuvRAuFEn7lOA4aYWRrRM4NtwJXA/OD1+cBVwfKVwBPu3uzu1cAGoMLMxgMj3H1JcFawoMs2IiIDQkqKcc6E0fzH16az4gcXc9c1p5M1JJ27nn+XmXe9zDceXsFzq+tobmuPWw29vvfJ3bea2b8BW4BDwAvu/oKZjXX3umCdOjPLCTbJI3oG0Kk2aGsNlg9v/wwzmwfMAygsLOxt6SIi/drwwelcW1HItRWFbPx4BNat3PzuSrIz0/nRFVO4cnq3H5MnpNdnCGaWTfRbfwnRS0BDzez6o23STZsfpf2zje73u3uZu5eNGTPmeEsWEUk4J40ZxncvO5U/ff8iHv7Lcs6dODpudySdyNMRFwPV7r4DwMyeAs4BtpvZ+ODsYDxQH6xfCxR02T6f6CWm2mD58HYREQmkphgXnpLDhafk9LxyL51IH8IW4Gwzy7RoN/gsYD3wDDA3WGcu8HSw/AxwrZllmFkJMAlYHlxe2m9mZwf7ubHLNiIi0kdOpA9hmZktAlYCbcBbwP3AMOBJM7uJaGjMCdZfG9yJtC5Y/xZ37+wd+Raf3Hb6fPAjIiJ9SA+miYgMIPG87VRERJKEAkFERAAFgoiIBBQIIiICKBBERCSQsHcZmdkOYHPYdRyj0cDOsIuIk2Q+Nkju49OxJa4TOb4id+92qIeEDYREYmaVR7rNK9El87FBch+fji1xxev4dMlIREQABYKIiAQUCH3j/rALiKNkPjZI7uPTsSWuuByf+hBERATQGYKIiAQUCCIiAigQ4srMCszsFTNbb2Zrzez2sGuKNTNLNbO3zOzZsGuJJTMbaWaLzOzd4P/fzLBrihUz+7vg73GNmT1uZrGZvT0kZvaQmdWb2ZoubREzW2xmHwT/ZodZY28d4dh+EvxdrjKz35jZyFi9nwIhvtqAv3f304CzgVvMbHLINcXa7UQnRko2/wn83t1PBaaRJMdoZnnAbUCZu08FUoFrw63qhD0MXHZY2/eBl9x9EvBS8HsiepjPHttiYKq7nwG8D9wRqzdTIMSRu9e5+8pgeT/RD5XYz4wdEjPLB74MPBB2LbFkZiOA84EHAdy9xd33hFpUbKUBQ8wsDcgkwaesdffXgIbDmq8E5gfL84Gr+rKmWOnu2Nz9BXdvC35dyqenID4hCoQ+YmbFwJnAspBLiaX/C3wX6Ai5jlg7CdgB/E9wOewBMxsadlGx4O5bgX8jOpthHbDX3V8It6q4GBtMz0vwb/wmIg7XN4jhDJMKhD5gZsOAXwPfdvd9YdcTC2Z2OVDv7lVh1xIHacAM4F53PxM4SOJecviU4Fr6lUAJkAsMNbPrw61KesPMfkD0svSjsdqnAiHOzCydaBg86u5PhV1PDJ0LXGFmm4AngIvM7JfhlhQztUCtu3eezS0iGhDJ4GKg2t13uHsr8BRwTsg1xcN2MxsPEPxbH3I9MWVmc4HLges8hg+TKRDiyMyM6HXo9e7+H2HXE0vufoe757t7MdFOyZfdPSm+abr7R0CNmZ0SNM0C1oVYUixtAc42s8zg73MWSdJhfphngLnB8lzg6RBriSkzuwz4HnCFuzfGct8KhPg6F7iB6Lfnt4OfL4VdlByTW4FHzWwVMB3413DLiY3grGcRsBJYTfQzIKGHeTCzx4ElwClmVmtmNwF3AZeY2QfAJcHvCecIx/bfwHBgcfCZcl/M3k9DV4iICOgMQUREAgoEEREBFAgiIhJQIIiICKBAEBGRgAJBpI8EI6je3OX3C5NtlFhJbAoEkb4zEri5p5VEwqJAEOmGmRUHY84/EMwb8KiZXWxmfwrG2K8Ixtz/bTAu/VIzOyPY9kfBOPZ/NLONZnZbsNu7gAnBw0Q/CdqGdZl34dHg6WGRUKSFXYBIPzYRmAPMA1YAXwc+B1wB/BNQA7zl7leZ2UXAAqJPNQOcCnye6BOl75nZvUQHyJvq7tMhesmI6Ai4U4gOQf0nok+3vxH3IxPphs4QRI6s2t1Xu3sHsJbohCtOdMiHYqLh8AiAu78MjDKzrGDb37l7s7vvJDqw2tgjvMdyd68N3uPtYL8ioVAgiBxZc5flji6/dxA9u+7u8k7nWDBdt23nyGfjx7qeSNwpEER67zXgOvj48s/OHua72E/0EpJIv6RvIyK99yOis6qtAhr5ZLjlbrn7rqBTeg3RWa5+F/8SRY6dRjsVERFAl4xERCSgQBAREUCBICIiAQWCiIgACgQREQkoEEREBFAgiIhI4P8DoJX/YVBMhHcAAAAASUVORK5CYII=\n",
      "text/plain": [
       "<Figure size 432x288 with 1 Axes>"
      ]
     },
     "metadata": {
      "needs_background": "light"
     },
     "output_type": "display_data"
    }
   ],
   "source": [
    "bymonth['lat'].plot()"
   ]
  },
  {
   "cell_type": "markdown",
   "metadata": {},
   "source": [
    "#### In july 911 calls increased sharply and then greatly reduced from august. What was the reason for this sudden sharp increase and then downfall is not clear"
   ]
  }
 ],
 "metadata": {
  "kernelspec": {
   "display_name": "Python 3 (ipykernel)",
   "language": "python",
   "name": "python3"
  },
  "language_info": {
   "codemirror_mode": {
    "name": "ipython",
    "version": 3
   },
   "file_extension": ".py",
   "mimetype": "text/x-python",
   "name": "python",
   "nbconvert_exporter": "python",
   "pygments_lexer": "ipython3",
   "version": "3.9.7"
  }
 },
 "nbformat": 4,
 "nbformat_minor": 2
}
